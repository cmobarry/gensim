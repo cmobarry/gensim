{
 "cells": [
  {
   "cell_type": "markdown",
   "metadata": {},
   "source": [
    "# Tutorial 1: Corpora and Vector Spaces\n",
    "See this *gensim* tutorial on the web [here](https://radimrehurek.com/gensim/tut1.html)."
   ]
  },
  {
   "cell_type": "markdown",
   "metadata": {},
   "source": [
    "Don’t forget to set:"
   ]
  },
  {
   "cell_type": "code",
   "execution_count": 1,
   "metadata": {},
   "outputs": [],
   "source": [
    "import logging\n",
    "logging.basicConfig(format='%(asctime)s : %(levelname)s : %(message)s', level=logging.INFO)"
   ]
  },
  {
   "cell_type": "code",
   "execution_count": 2,
   "metadata": {},
   "outputs": [
    {
     "name": "stdout",
     "output_type": "stream",
     "text": [
      "Folder \"/mnt/work/tmp\" will be used to save temporary dictionary and corpus.\n"
     ]
    }
   ],
   "source": [
    "import os\n",
    "import tempfile\n",
    "tempfile.tempdir = \"/mnt/work/tmp\"\n",
    "TEMP_FOLDER = tempfile.gettempdir()\n",
    "print('Folder \"{}\" will be used to save temporary dictionary and corpus.'.format(TEMP_FOLDER))"
   ]
  },
  {
   "cell_type": "code",
   "execution_count": 3,
   "metadata": {},
   "outputs": [
    {
     "name": "stderr",
     "output_type": "stream",
     "text": [
      "2019-02-01 18:17:42,626 : INFO : 'pattern' package not found; tag filters are not available for English\n"
     ]
    }
   ],
   "source": [
    "import gensim"
   ]
  },
  {
   "cell_type": "markdown",
   "metadata": {},
   "source": [
    "if you want to see logging events.\n",
    "\n",
    "## From Strings to Vectors\n",
    "\n",
    "This time, let’s start from documents represented as strings:"
   ]
  },
  {
   "cell_type": "code",
   "execution_count": 4,
   "metadata": {},
   "outputs": [],
   "source": [
    "from gensim import corpora"
   ]
  },
  {
   "cell_type": "code",
   "execution_count": 5,
   "metadata": {},
   "outputs": [],
   "source": [
    "documents = [\"Human machine interface for lab abc computer applications\",\n",
    "             \"A survey of user opinion of computer system response time\",\n",
    "             \"The EPS user interface management system\",\n",
    "             \"System and human system engineering testing of EPS\",              \n",
    "             \"Relation of user perceived response time to error measurement\",\n",
    "             \"The generation of random binary unordered trees\",\n",
    "             \"The intersection graph of paths in trees\",\n",
    "             \"Graph minors IV Widths of trees and well quasi ordering\",\n",
    "             \"Graph minors A survey\"]"
   ]
  },
  {
   "cell_type": "markdown",
   "metadata": {},
   "source": [
    "This is a tiny corpus of nine documents, each consisting of only a single sentence.\n",
    "\n",
    "First, let’s tokenize the documents, remove common words (using a toy stoplist) as well as words that only appear once in the corpus:"
   ]
  },
  {
   "cell_type": "code",
   "execution_count": 6,
   "metadata": {},
   "outputs": [
    {
     "name": "stdout",
     "output_type": "stream",
     "text": [
      "[['human', 'interface', 'computer'],\n",
      " ['survey', 'user', 'computer', 'system', 'response', 'time'],\n",
      " ['eps', 'user', 'interface', 'system'],\n",
      " ['system', 'human', 'system', 'eps'],\n",
      " ['user', 'response', 'time'],\n",
      " ['trees'],\n",
      " ['graph', 'trees'],\n",
      " ['graph', 'minors', 'trees'],\n",
      " ['graph', 'minors', 'survey']]\n"
     ]
    }
   ],
   "source": [
    "# remove common words and tokenize\n",
    "stoplist = set('for a of the and to in'.split())\n",
    "texts = [[word for word in document.lower().split() if word not in stoplist]\n",
    "         for document in documents]\n",
    "\n",
    "# remove words that appear only once\n",
    "from collections import defaultdict\n",
    "frequency = defaultdict(int)\n",
    "for text in texts:\n",
    "    for token in text:\n",
    "        frequency[token] += 1\n",
    "\n",
    "texts = [[token for token in text if frequency[token] > 1] for text in texts]\n",
    "\n",
    "from pprint import pprint  # pretty-printer\n",
    "pprint(texts)"
   ]
  },
  {
   "cell_type": "markdown",
   "metadata": {},
   "source": [
    "Your way of processing the documents will likely vary; here, I only split on whitespace to tokenize, followed by lowercasing each word. In fact, I use this particular (simplistic and inefficient) setup to mimic the experiment done in [Deerwester et al.’s original LSA article](http://www.cs.bham.ac.uk/~pxt/IDA/lsa_ind.pdf) (Table 2).\n",
    "\n",
    "The ways to process documents are so varied and application- and language-dependent that I decided to not constrain them by any interface. Instead, a document is represented by the features extracted from it, not by its “surface” string form: how you get to the features is up to you. Below I describe one common, general-purpose approach (called bag-of-words), but keep in mind that different application domains call for different features, and, as always, it’s [garbage in, garbage out](https://en.wikipedia.org/wiki/Garbage_in,_garbage_out)...\n",
    "\n",
    "To convert documents to vectors, we’ll use a document representation called [bag-of-words](https://en.wikipedia.org/wiki/Bag-of-words_model). In this representation, each document is represented by one vector where a vector element `i` represents the number of times the `i`th word appears in the document.\n",
    "\n",
    "It is advantageous to represent the questions only by their (integer) ids. The mapping between the questions and ids is called a dictionary:"
   ]
  },
  {
   "cell_type": "code",
   "execution_count": 7,
   "metadata": {},
   "outputs": [
    {
     "name": "stderr",
     "output_type": "stream",
     "text": [
      "2019-02-01 18:17:42,666 : INFO : adding document #0 to Dictionary(0 unique tokens: [])\n",
      "2019-02-01 18:17:42,667 : INFO : built Dictionary(12 unique tokens: ['computer', 'human', 'interface', 'response', 'survey']...) from 9 documents (total 29 corpus positions)\n",
      "2019-02-01 18:17:42,668 : INFO : saving Dictionary object under /mnt/work/tmp/deerwester.dict, separately None\n",
      "2019-02-01 18:17:42,670 : INFO : saved /mnt/work/tmp/deerwester.dict\n"
     ]
    },
    {
     "name": "stdout",
     "output_type": "stream",
     "text": [
      "Dictionary(12 unique tokens: ['computer', 'human', 'interface', 'response', 'survey']...)\n"
     ]
    }
   ],
   "source": [
    "dictionary = corpora.Dictionary(texts)\n",
    "dictionary.save(os.path.join(TEMP_FOLDER, 'deerwester.dict'))  # store the dictionary, for future reference\n",
    "print(dictionary)"
   ]
  },
  {
   "cell_type": "markdown",
   "metadata": {},
   "source": [
    "Here we assigned a unique integer ID to all words appearing in the processed corpus with the [gensim.corpora.dictionary.Dictionary](https://radimrehurek.com/gensim/corpora/dictionary.html#gensim.corpora.dictionary.Dictionary) class. This sweeps across the texts, collecting word counts and relevant statistics. In the end, we see there are twelve distinct words in the processed corpus, which means each document will be represented by twelve numbers (ie., by a 12-D vector). To see the mapping between words and their ids:"
   ]
  },
  {
   "cell_type": "code",
   "execution_count": 8,
   "metadata": {},
   "outputs": [
    {
     "name": "stdout",
     "output_type": "stream",
     "text": [
      "{'computer': 0, 'human': 1, 'interface': 2, 'response': 3, 'survey': 4, 'system': 5, 'time': 6, 'user': 7, 'eps': 8, 'trees': 9, 'graph': 10, 'minors': 11}\n"
     ]
    }
   ],
   "source": [
    "print(dictionary.token2id)"
   ]
  },
  {
   "cell_type": "markdown",
   "metadata": {},
   "source": [
    "To actually convert tokenized documents to vectors:"
   ]
  },
  {
   "cell_type": "code",
   "execution_count": 9,
   "metadata": {},
   "outputs": [
    {
     "name": "stdout",
     "output_type": "stream",
     "text": [
      "[(0, 1), (1, 1)]\n"
     ]
    }
   ],
   "source": [
    "new_doc = \"Human computer interaction\"\n",
    "new_vec = dictionary.doc2bow(new_doc.lower().split())\n",
    "print(new_vec)  # the word \"interaction\" does not appear in the dictionary and is ignored"
   ]
  },
  {
   "cell_type": "markdown",
   "metadata": {},
   "source": [
    "The function `doc2bow()` simply counts the number of occurrences of each distinct word, converts the word to its integer word id and returns the result as a bag-of-words--a sparse vector, in the form of `[(word_id, word_count), ...]`. \n",
    "\n",
    "As the token_id is 0 for *\"human\"* and 2 for *\"computer\"*, the new document *“Human computer interaction”* will be transformed to [(0, 1), (2, 1)]. The words *\"computer\"* and *\"human\"* exist in the dictionary and appear once. Thus, they become (0, 1), (2, 1) respectively in the sparse vector. The word *\"interaction\"* doesn't exist in the dictionary and, thus, will not show up in the sparse vector. The other ten dictionary words, that appear (implicitly) zero times, will not show up in the sparse vector and , ,there will never be a element in the sparse vector like (3, 0).\n",
    "\n",
    "For people familiar with scikit learn, `doc2bow()` has similar behaviors as calling `transform()` on [`CountVectorizer`](http://scikit-learn.org/stable/modules/generated/sklearn.feature_extraction.text.CountVectorizer.html). `doc2bow()` can behave like `fit_transform()` as well. For more details, please look at [gensim API Doc](https://radimrehurek.com/gensim/corpora/dictionary.html#gensim.corpora.dictionary.Dictionary.doc2bow)."
   ]
  },
  {
   "cell_type": "code",
   "execution_count": 10,
   "metadata": {},
   "outputs": [
    {
     "name": "stderr",
     "output_type": "stream",
     "text": [
      "2019-02-01 18:17:42,699 : INFO : storing corpus in Matrix Market format to /mnt/work/tmp/deerwester.mm\n",
      "2019-02-01 18:17:42,700 : INFO : saving sparse matrix to /mnt/work/tmp/deerwester.mm\n",
      "2019-02-01 18:17:42,702 : INFO : PROGRESS: saving document #0\n",
      "2019-02-01 18:17:42,704 : INFO : saved 9x12 matrix, density=25.926% (28/108)\n",
      "2019-02-01 18:17:42,705 : INFO : saving MmCorpus index to /mnt/work/tmp/deerwester.mm.index\n"
     ]
    },
    {
     "name": "stdout",
     "output_type": "stream",
     "text": [
      "[(0, 1), (1, 1), (2, 1)]\n",
      "[(0, 1), (3, 1), (4, 1), (5, 1), (6, 1), (7, 1)]\n",
      "[(2, 1), (5, 1), (7, 1), (8, 1)]\n",
      "[(1, 1), (5, 2), (8, 1)]\n",
      "[(3, 1), (6, 1), (7, 1)]\n",
      "[(9, 1)]\n",
      "[(9, 1), (10, 1)]\n",
      "[(9, 1), (10, 1), (11, 1)]\n",
      "[(4, 1), (10, 1), (11, 1)]\n"
     ]
    }
   ],
   "source": [
    "corpus = [dictionary.doc2bow(text) for text in texts]\n",
    "corpora.MmCorpus.serialize(os.path.join(TEMP_FOLDER, 'deerwester.mm'), corpus)  # store to disk, for later use\n",
    "for c in corpus:\n",
    "    print(c)"
   ]
  },
  {
   "cell_type": "code",
   "execution_count": 11,
   "metadata": {},
   "outputs": [
    {
     "name": "stdout",
     "output_type": "stream",
     "text": [
      "[(0, 1), (1, 1), (2, 1)]\n",
      "[(0, 1), (3, 1), (4, 1), (5, 1), (6, 1), (7, 1)]\n",
      "[(2, 1), (5, 1), (7, 1), (8, 1)]\n",
      "[(1, 1), (5, 2), (8, 1)]\n",
      "[(3, 1), (6, 1), (7, 1)]\n",
      "[(9, 1)]\n",
      "[(9, 1), (10, 1)]\n",
      "[(9, 1), (10, 1), (11, 1)]\n",
      "[(4, 1), (10, 1), (11, 1)]\n"
     ]
    }
   ],
   "source": [
    "# Can they be generators?  Yes, if we make sure that \"corpus\" needs to be processed only once!\n",
    "\n",
    "texts2 = (text for text in texts)\n",
    "corpus2 = (dictionary.doc2bow(text) for text in texts2)\n",
    "## corpora.MmCorpus.serialize(os.path.join(TEMP_FOLDER, 'deerwester2.mm'), corpus2)  # store to disk, for later use\n",
    "for c in corpus2:\n",
    "    print(c)"
   ]
  },
  {
   "cell_type": "markdown",
   "metadata": {},
   "source": [
    "By now it should be clear that the vector feature with `id=10` represents the number of times the word \"graph\" occurs in the document.  The answer is “zero” for the first six documents and “one” for the remaining three. As a matter of fact, we have arrived at exactly the same corpus of vectors as in the [Quick Example](https://radimrehurek.com/gensim/tutorial.html#first-example). If you're running this notebook yourself the word IDs may differ, but you should be able to check the consistency between documents comparing their vectors. \n",
    "\n",
    "## Corpus Streaming – One Document at a Time\n",
    "\n",
    "Note that *corpus* above resides fully in memory, as a plain Python list. In this simple example, it doesn’t matter much, but just to make things clear, let’s assume there are millions of documents in the corpus. Storing all of them in RAM won’t do. Instead, let’s assume the documents are stored in a file on disk, one document per line. Gensim only requires that a corpus be able to return one document vector at a time:"
   ]
  },
  {
   "cell_type": "code",
   "execution_count": 12,
   "metadata": {},
   "outputs": [],
   "source": [
    "from smart_open import smart_open\n",
    "class MyCorpus(object):\n",
    "    def __iter__(self):\n",
    "        for line in smart_open('datasets/mycorpus.txt', 'rb'):\n",
    "            # assume there's one document per line, tokens separated by whitespace\n",
    "            yield dictionary.doc2bow(line.lower().split())"
   ]
  },
  {
   "cell_type": "markdown",
   "metadata": {},
   "source": [
    "The assumption that each document occupies one line in a single file is not important; you can design the `__iter__` function to fit your input format, whatever that may be - walking directories, parsing XML, accessing network nodes... Just parse your input to retrieve a clean list of tokens in each document, then convert the tokens via a dictionary to their IDs and yield the resulting sparse vector inside `__iter__`."
   ]
  },
  {
   "cell_type": "code",
   "execution_count": 13,
   "metadata": {},
   "outputs": [
    {
     "name": "stdout",
     "output_type": "stream",
     "text": [
      "<__main__.MyCorpus object at 0x7f28ae507630>\n"
     ]
    }
   ],
   "source": [
    "corpus_memory_friendly = MyCorpus() # doesn't load the corpus into memory!\n",
    "print(corpus_memory_friendly)"
   ]
  },
  {
   "cell_type": "markdown",
   "metadata": {},
   "source": [
    "`corpus_memory_friendly` is now an object. We didn’t define any way to print it, so `print` just outputs address of the object in memory. Not very useful. To see the constituent vectors, let’s iterate over the corpus and print each document vector (one at a time):"
   ]
  },
  {
   "cell_type": "code",
   "execution_count": 14,
   "metadata": {},
   "outputs": [
    {
     "name": "stdout",
     "output_type": "stream",
     "text": [
      "[(0, 1), (1, 1), (2, 1)]\n",
      "[(0, 1), (3, 1), (4, 1), (5, 1), (6, 1), (7, 1)]\n",
      "[(2, 1), (5, 1), (7, 1), (8, 1)]\n",
      "[(1, 1), (5, 2), (8, 1)]\n",
      "[(3, 1), (6, 1), (7, 1)]\n",
      "[(9, 1)]\n",
      "[(9, 1), (10, 1)]\n",
      "[(9, 1), (10, 1), (11, 1)]\n",
      "[(4, 1), (10, 1), (11, 1)]\n"
     ]
    }
   ],
   "source": [
    "for vector in corpus_memory_friendly:  # load one vector into memory at a time\n",
    "    print(vector)"
   ]
  },
  {
   "cell_type": "markdown",
   "metadata": {},
   "source": [
    "Although the output is the same as for the plain Python list, the corpus is now much more memory friendly, because at most one vector resides in RAM at a time. Your corpus can now be as large as you want.\n",
    "\n",
    "We are going to create the dictionary from the mycorpus.txt file without loading the entire file into memory. Then, we will generate the list of token ids to remove from this dictionary by querying the dictionary for the token ids of the stop words, and by querying the document frequencies dictionary (`dictionary.dfs`) for token ids that only appear once. Finally, we will filter these token ids out of our dictionary. Keep in mind that `dictionary.filter_tokens` (and some other functions such as `dictionary.add_document`) will call `dictionary.compactify()` to remove the gaps in the token id series thus enumeration of remaining tokens can be changed."
   ]
  },
  {
   "cell_type": "code",
   "execution_count": 15,
   "metadata": {},
   "outputs": [
    {
     "name": "stdout",
     "output_type": "stream",
     "text": [
      "<12x9 sparse matrix of type '<class 'numpy.float64'>'\n",
      "\twith 28 stored elements in Compressed Sparse Column format>\n",
      "  (0, 0)\t1.0\n",
      "  (1, 0)\t1.0\n",
      "  (2, 0)\t1.0\n",
      "  (0, 1)\t1.0\n",
      "  (3, 1)\t1.0\n",
      "  (4, 1)\t1.0\n",
      "  (5, 1)\t1.0\n",
      "  (6, 1)\t1.0\n",
      "  (7, 1)\t1.0\n",
      "  (2, 2)\t1.0\n",
      "  (5, 2)\t1.0\n",
      "  (7, 2)\t1.0\n",
      "  (8, 2)\t1.0\n",
      "  (1, 3)\t1.0\n",
      "  (5, 3)\t2.0\n",
      "  (8, 3)\t1.0\n",
      "  (3, 4)\t1.0\n",
      "  (6, 4)\t1.0\n",
      "  (7, 4)\t1.0\n",
      "  (9, 5)\t1.0\n",
      "  (9, 6)\t1.0\n",
      "  (10, 6)\t1.0\n",
      "  (9, 7)\t1.0\n",
      "  (10, 7)\t1.0\n",
      "  (11, 7)\t1.0\n",
      "  (4, 8)\t1.0\n",
      "  (10, 8)\t1.0\n",
      "  (11, 8)\t1.0\n"
     ]
    }
   ],
   "source": [
    "scipy_csc_matrix = gensim.matutils.corpus2csc(corpus_memory_friendly)\n",
    "print(repr(scipy_csc_matrix))\n",
    "print(scipy_csc_matrix)"
   ]
  },
  {
   "cell_type": "code",
   "execution_count": 16,
   "metadata": {
    "scrolled": true
   },
   "outputs": [
    {
     "name": "stderr",
     "output_type": "stream",
     "text": [
      "2019-02-01 18:17:42,763 : INFO : adding document #0 to Dictionary(0 unique tokens: [])\n",
      "2019-02-01 18:17:42,765 : INFO : built Dictionary(42 unique tokens: ['abc', 'applications', 'computer', 'for', 'human']...) from 9 documents (total 69 corpus positions)\n"
     ]
    },
    {
     "name": "stdout",
     "output_type": "stream",
     "text": [
      "7\n",
      "26\n",
      "Dictionary(12 unique tokens: ['computer', 'human', 'interface', 'response', 'survey']...)\n"
     ]
    }
   ],
   "source": [
    "from six import iteritems\n",
    "from smart_open import smart_open\n",
    "\n",
    "# collect statistics about all tokens\n",
    "dictionary = corpora.Dictionary(line.lower().split() for line in smart_open('datasets/mycorpus.txt', 'rb'))\n",
    "\n",
    "# remove stop words and words that appear only once\n",
    "stop_ids = [dictionary.token2id[stopword] for stopword in stoplist \n",
    "            if stopword in dictionary.token2id]\n",
    "once_ids = [tokenid for tokenid, docfreq in iteritems(dictionary.dfs) if docfreq == 1]\n",
    "\n",
    "print(len(stop_ids))\n",
    "print(len(once_ids))\n",
    "\n",
    "# remove stop words and words that appear only once\n",
    "dictionary.filter_tokens(stop_ids + once_ids)\n",
    "print(dictionary)"
   ]
  },
  {
   "cell_type": "code",
   "execution_count": 17,
   "metadata": {},
   "outputs": [
    {
     "name": "stderr",
     "output_type": "stream",
     "text": [
      "2019-02-01 18:17:42,780 : INFO : adding document #0 to HashDictionary(30 id range)\n",
      "2019-02-01 18:17:42,782 : INFO : built HashDictionary(30 id range) from 9 documents (total 69 corpus positions)\n",
      "2019-02-01 18:17:42,784 : INFO : kept statistics for which were in no less than 2 and no more than 4 (=50.0%) documents\n"
     ]
    },
    {
     "name": "stdout",
     "output_type": "stream",
     "text": [
      "[[b'human', b'machine', b'interface', b'for', b'lab', b'abc', b'computer', b'applications'], [b'a', b'survey', b'of', b'user', b'opinion', b'of', b'computer', b'system', b'response', b'time'], [b'the', b'eps', b'user', b'interface', b'management', b'system'], [b'system', b'and', b'human', b'system', b'engineering', b'testing', b'of', b'eps'], [b'relation', b'of', b'user', b'perceived', b'response', b'time', b'to', b'error', b'measurement'], [b'the', b'generation', b'of', b'random', b'binary', b'unordered', b'trees'], [b'the', b'intersection', b'graph', b'of', b'paths', b'in', b'trees'], [b'graph', b'minors', b'iv', b'widths', b'of', b'trees', b'and', b'well', b'quasi', b'ordering'], [b'graph', b'minors', b'a', b'survey']]\n",
      "0\n",
      "7\n",
      "HashDictionary(30 id range)\n"
     ]
    }
   ],
   "source": [
    "from six import iteritems\n",
    "from smart_open import smart_open\n",
    "\n",
    "raw = [line.lower().split() for line in smart_open('datasets/mycorpus.txt', 'rb')]\n",
    "\n",
    "print(raw)\n",
    "\n",
    "# collect statistics about all tokens\n",
    "dictionaryh = corpora.HashDictionary(raw, debug=True, id_range=30)\n",
    "\n",
    "# remove stop words and words that appear only once\n",
    "stop_idsh = [dictionaryh.token2id[stopword] for stopword in stoplist \n",
    "            if stopword in dictionaryh.token2id]\n",
    "once_idsh = [tokenid for tokenid, docfreq in iteritems(dictionaryh.dfs) if docfreq == 1]\n",
    "\n",
    "print(len(stop_idsh))\n",
    "print(len(once_idsh))\n",
    "\n",
    "# remove stop words and words that appear only once\n",
    "#dictionaryh.filter_tokens(stop_idsh + once_idsh)\n",
    "dictionaryh.filter_extremes(no_below=2, no_above=0.5, keep_n=100)\n",
    "print(dictionaryh)"
   ]
  },
  {
   "cell_type": "code",
   "execution_count": 18,
   "metadata": {
    "scrolled": false
   },
   "outputs": [
    {
     "name": "stdout",
     "output_type": "stream",
     "text": [
      "{b'computer': 18, b'human': 2, b'interface': 6, b'a': 16, b'response': 2, b'survey': 11, b'system': 8, b'time': 4, b'user': 6, b'eps': 29, b'the': 22, b'and': 22, b'trees': 4, b'graph': 11, b'minors': 11}\n",
      "{29: 4, 16: 3, 18: 3, 2: 4, 6: 5, 8: 5, 11: 4, 4: 6, 22: 5}\n",
      "[[b'human', b'machine', b'interface', b'for', b'lab', b'abc', b'computer', b'applications'], [b'a', b'survey', b'of', b'user', b'opinion', b'of', b'computer', b'system', b'response', b'time'], [b'the', b'eps', b'user', b'interface', b'management', b'system'], [b'system', b'and', b'human', b'system', b'engineering', b'testing', b'of', b'eps'], [b'relation', b'of', b'user', b'perceived', b'response', b'time', b'to', b'error', b'measurement'], [b'the', b'generation', b'of', b'random', b'binary', b'unordered', b'trees'], [b'the', b'intersection', b'graph', b'of', b'paths', b'in', b'trees'], [b'graph', b'minors', b'iv', b'widths', b'of', b'trees', b'and', b'well', b'quasi', b'ordering'], [b'graph', b'minors', b'a', b'survey']]\n",
      "[(b'human', 2), (b'machine', 10), (b'interface', 6), (b'for', 28), (b'lab', 8), (b'abc', 29), (b'computer', 18), (b'applications', 16), (b'a', 16), (b'survey', 11), (b'of', 0), (b'user', 6), (b'opinion', 23), (b'of', 0), (b'computer', 18), (b'system', 8), (b'response', 2), (b'time', 4), (b'the', 22), (b'eps', 29), (b'user', 6), (b'interface', 6), (b'management', 4), (b'system', 8), (b'system', 8), (b'and', 22), (b'human', 2), (b'system', 8), (b'engineering', 28), (b'testing', 29), (b'of', 0), (b'eps', 29), (b'relation', 9), (b'of', 0), (b'user', 6), (b'perceived', 20), (b'response', 2), (b'time', 4), (b'to', 18), (b'error', 9), (b'measurement', 7), (b'the', 22), (b'generation', 15), (b'of', 0), (b'random', 8), (b'binary', 10), (b'unordered', 25), (b'trees', 4), (b'the', 22), (b'intersection', 4), (b'graph', 11), (b'of', 0), (b'paths', 9), (b'in', 28), (b'trees', 4), (b'graph', 11), (b'minors', 11), (b'iv', 14), (b'widths', 6), (b'of', 0), (b'trees', 4), (b'and', 22), (b'well', 29), (b'quasi', 22), (b'ordering', 27), (b'graph', 11), (b'minors', 11), (b'a', 16), (b'survey', 11)]\n",
      "{29: 4, 16: 3, 18: 3, 2: 4, 6: 5, 8: 5, 11: 4, 4: 6, 22: 5}\n"
     ]
    }
   ],
   "source": [
    "import zlib\n",
    "print(dictionaryh.token2id)\n",
    "print(dictionaryh.dfs)\n",
    "print(raw)\n",
    "print([(word, dictionaryh.restricted_hash(word)) for doc in raw for word in doc])\n",
    "print(dictionaryh.dfs)"
   ]
  },
  {
   "cell_type": "markdown",
   "metadata": {},
   "source": [
    "And that is all there is to it! At least as far as bag-of-words representation is concerned. Of course, what we do with such a corpus is another question; it is not at all clear how counting the frequency of distinct words could be useful. As it turns out, it isn’t, and we will need to apply a transformation on this simple representation first, before we can use it to compute any meaningful document vs. document similarities. Transformations are covered in the [next tutorial](https://radimrehurek.com/gensim/tut2.html), but before that, let’s briefly turn our attention to *corpus persistency*.\n",
    "\n",
    "## Corpus Formats\n",
    "\n",
    "There exist several file formats for serializing a Vector Space corpus (~sequence of vectors) to disk. *Gensim* implements them via the *streaming corpus interface* mentioned earlier: documents are read from (or stored to) disk in a lazy fashion, one document at a time, without the whole corpus being read into main memory at once.\n",
    "\n",
    "One of the more notable file formats is the [Matrix Market format](http://math.nist.gov/MatrixMarket/formats.html). To save a corpus in the Matrix Market format:"
   ]
  },
  {
   "cell_type": "code",
   "execution_count": 19,
   "metadata": {},
   "outputs": [
    {
     "name": "stderr",
     "output_type": "stream",
     "text": [
      "2019-02-01 18:17:42,801 : INFO : storing corpus in Matrix Market format to /mnt/work/tmp/corpus.mm\n",
      "2019-02-01 18:17:42,802 : INFO : saving sparse matrix to /mnt/work/tmp/corpus.mm\n",
      "2019-02-01 18:17:42,803 : INFO : PROGRESS: saving document #0\n",
      "2019-02-01 18:17:42,804 : INFO : saved 2x2 matrix, density=25.000% (1/4)\n",
      "2019-02-01 18:17:42,805 : INFO : saving MmCorpus index to /mnt/work/tmp/corpus.mm.index\n"
     ]
    }
   ],
   "source": [
    "# create a toy corpus of 2 documents, as a plain Python list\n",
    "corpus = [[(1, 0.5)], []]  # make one document empty, for the heck of it\n",
    "\n",
    "corpora.MmCorpus.serialize(os.path.join(TEMP_FOLDER, 'corpus.mm'), corpus)"
   ]
  },
  {
   "cell_type": "markdown",
   "metadata": {},
   "source": [
    "Other formats include [Joachim’s SVMlight format](http://svmlight.joachims.org/), [Blei’s LDA-C format](http://www.cs.columbia.edu/~blei/lda-c/) and [GibbsLDA++ format](http://gibbslda.sourceforge.net/)."
   ]
  },
  {
   "cell_type": "code",
   "execution_count": 20,
   "metadata": {},
   "outputs": [
    {
     "name": "stderr",
     "output_type": "stream",
     "text": [
      "2019-02-01 18:17:42,821 : INFO : converting corpus to SVMlight format: /mnt/work/tmp/corpus.svmlight\n",
      "2019-02-01 18:17:42,822 : INFO : saving SvmLightCorpus index to /mnt/work/tmp/corpus.svmlight.index\n",
      "2019-02-01 18:17:42,824 : INFO : no word id mapping provided; initializing from corpus\n",
      "2019-02-01 18:17:42,825 : INFO : storing corpus in Blei's LDA-C format into /mnt/work/tmp/corpus.lda-c\n",
      "2019-02-01 18:17:42,827 : INFO : saving vocabulary of 2 words to /mnt/work/tmp/corpus.lda-c.vocab\n",
      "2019-02-01 18:17:42,828 : INFO : saving BleiCorpus index to /mnt/work/tmp/corpus.lda-c.index\n",
      "2019-02-01 18:17:42,830 : INFO : no word id mapping provided; initializing from corpus\n",
      "2019-02-01 18:17:42,831 : INFO : storing corpus in List-Of-Words format into /mnt/work/tmp/corpus.low\n",
      "2019-02-01 18:17:42,833 : WARNING : List-of-words format can only save vectors with integer elements; 1 float entries were truncated to integer value\n",
      "2019-02-01 18:17:42,834 : INFO : saving LowCorpus index to /mnt/work/tmp/corpus.low.index\n"
     ]
    }
   ],
   "source": [
    "corpora.SvmLightCorpus.serialize(os.path.join(TEMP_FOLDER, 'corpus.svmlight'), corpus)\n",
    "corpora.BleiCorpus.serialize(os.path.join(TEMP_FOLDER, 'corpus.lda-c'), corpus)\n",
    "corpora.LowCorpus.serialize(os.path.join(TEMP_FOLDER, 'corpus.low'), corpus)"
   ]
  },
  {
   "cell_type": "markdown",
   "metadata": {},
   "source": [
    "Conversely, to load a corpus iterator from a Matrix Market file:"
   ]
  },
  {
   "cell_type": "code",
   "execution_count": 21,
   "metadata": {},
   "outputs": [
    {
     "name": "stderr",
     "output_type": "stream",
     "text": [
      "2019-02-01 18:17:42,842 : INFO : loaded corpus index from /mnt/work/tmp/corpus.mm.index\n",
      "2019-02-01 18:17:42,843 : INFO : initializing cython corpus reader from /mnt/work/tmp/corpus.mm\n",
      "2019-02-01 18:17:42,845 : INFO : accepted corpus with 2 documents, 2 features, 1 non-zero entries\n"
     ]
    }
   ],
   "source": [
    "corpus = corpora.MmCorpus(os.path.join(TEMP_FOLDER, 'corpus.mm'))"
   ]
  },
  {
   "cell_type": "markdown",
   "metadata": {},
   "source": [
    "Corpus objects are streams, so typically you won’t be able to print them directly:"
   ]
  },
  {
   "cell_type": "code",
   "execution_count": 22,
   "metadata": {},
   "outputs": [
    {
     "name": "stdout",
     "output_type": "stream",
     "text": [
      "MmCorpus(2 documents, 2 features, 1 non-zero entries)\n"
     ]
    }
   ],
   "source": [
    "print(corpus)"
   ]
  },
  {
   "cell_type": "markdown",
   "metadata": {},
   "source": [
    "Instead, to view the contents of a corpus:"
   ]
  },
  {
   "cell_type": "code",
   "execution_count": 23,
   "metadata": {},
   "outputs": [
    {
     "name": "stdout",
     "output_type": "stream",
     "text": [
      "[[(1, 0.5)], []]\n"
     ]
    }
   ],
   "source": [
    "# one way of printing a corpus: load it entirely into memory\n",
    "print(list(corpus))  # calling list() will convert any sequence to a plain Python list"
   ]
  },
  {
   "cell_type": "markdown",
   "metadata": {},
   "source": [
    "or"
   ]
  },
  {
   "cell_type": "code",
   "execution_count": 24,
   "metadata": {},
   "outputs": [
    {
     "name": "stdout",
     "output_type": "stream",
     "text": [
      "[(1, 0.5)]\n",
      "[]\n"
     ]
    }
   ],
   "source": [
    "# another way of doing it: print one document at a time, making use of the streaming interface\n",
    "for doc in corpus:\n",
    "    print(doc)"
   ]
  },
  {
   "cell_type": "markdown",
   "metadata": {},
   "source": [
    "The second way is obviously more memory-friendly, but for testing and development purposes, nothing beats the simplicity of calling `list(corpus)`.\n",
    "\n",
    "To save the same Matrix Market document stream in Blei’s LDA-C format,"
   ]
  },
  {
   "cell_type": "code",
   "execution_count": 25,
   "metadata": {},
   "outputs": [
    {
     "name": "stderr",
     "output_type": "stream",
     "text": [
      "2019-02-01 18:17:42,875 : INFO : no word id mapping provided; initializing from corpus\n",
      "2019-02-01 18:17:42,877 : INFO : storing corpus in Blei's LDA-C format into /mnt/work/tmp/corpus.lda-c\n",
      "2019-02-01 18:17:42,878 : INFO : saving vocabulary of 2 words to /mnt/work/tmp/corpus.lda-c.vocab\n",
      "2019-02-01 18:17:42,880 : INFO : saving BleiCorpus index to /mnt/work/tmp/corpus.lda-c.index\n"
     ]
    }
   ],
   "source": [
    "corpora.BleiCorpus.serialize(os.path.join(TEMP_FOLDER, 'corpus.lda-c'), corpus)"
   ]
  },
  {
   "cell_type": "markdown",
   "metadata": {},
   "source": [
    "In this way, *gensim* can also be used as a memory-efficient **I/O format conversion tool**: just load a document stream using one format and immediately save it in another format. Adding new formats is dead easy, check out the [code for the SVMlight corpus](https://github.com/piskvorky/gensim/blob/develop/gensim/corpora/svmlightcorpus.py) for an example.\n",
    "\n",
    "## Compatibility with NumPy and SciPy\n",
    "\n",
    "Gensim also contains [efficient utility functions](http://radimrehurek.com/gensim/matutils.html) to help converting from/to `numpy` matrices:"
   ]
  },
  {
   "cell_type": "code",
   "execution_count": 26,
   "metadata": {},
   "outputs": [],
   "source": [
    "import gensim\n",
    "import numpy as np\n",
    "numpy_matrix = np.random.randint(10, size=[5,2])\n",
    "corpus = gensim.matutils.Dense2Corpus(numpy_matrix)\n",
    "numpy_matrix_dense = gensim.matutils.corpus2dense(corpus, num_terms=10)"
   ]
  },
  {
   "cell_type": "markdown",
   "metadata": {},
   "source": [
    "and from/to `scipy.sparse` matrices:"
   ]
  },
  {
   "cell_type": "code",
   "execution_count": 27,
   "metadata": {},
   "outputs": [],
   "source": [
    "import scipy.sparse\n",
    "scipy_sparse_matrix = scipy.sparse.random(5,2)\n",
    "corpus = gensim.matutils.Sparse2Corpus(scipy_sparse_matrix)\n",
    "scipy_csc_matrix = gensim.matutils.corpus2csc(corpus)"
   ]
  },
  {
   "cell_type": "markdown",
   "metadata": {},
   "source": [
    "For a complete reference (want to prune the dictionary to a smaller size? Optimize converting between corpora and NumPy/SciPy arrays?), see the [API documentation](https://radimrehurek.com/gensim/apiref.html). Or continue to the next tutorial on Topics and Transformations ([notebook](Topics_and_Transformations.ipynb) \n",
    "or [website](https://radimrehurek.com/gensim/tut2.html))."
   ]
  },
  {
   "cell_type": "code",
   "execution_count": 28,
   "metadata": {},
   "outputs": [
    {
     "name": "stdout",
     "output_type": "stream",
     "text": [
      "<0x2 sparse matrix of type '<class 'numpy.float64'>'\n",
      "\twith 0 stored elements in Compressed Sparse Column format>\n"
     ]
    }
   ],
   "source": [
    "scipy_csc_matrix = gensim.matutils.corpus2csc(corpus)\n",
    "print(repr(scipy_csc_matrix))"
   ]
  },
  {
   "cell_type": "code",
   "execution_count": null,
   "metadata": {},
   "outputs": [],
   "source": []
  }
 ],
 "metadata": {
  "kernelspec": {
   "display_name": "Python 3",
   "language": "python",
   "name": "python3"
  },
  "language_info": {
   "codemirror_mode": {
    "name": "ipython",
    "version": 3
   },
   "file_extension": ".py",
   "mimetype": "text/x-python",
   "name": "python",
   "nbconvert_exporter": "python",
   "pygments_lexer": "ipython3",
   "version": "3.6.7"
  }
 },
 "nbformat": 4,
 "nbformat_minor": 1
}
